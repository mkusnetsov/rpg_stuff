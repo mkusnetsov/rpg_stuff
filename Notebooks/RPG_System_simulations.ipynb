{
  "nbformat": 4,
  "nbformat_minor": 0,
  "metadata": {
    "colab": {
      "name": "RPG System simulations.ipynb",
      "provenance": [],
      "collapsed_sections": [],
      "authorship_tag": "ABX9TyMWn6JJ3dzoofm953wWo0Ys"
    },
    "kernelspec": {
      "name": "python3",
      "display_name": "Python 3"
    },
    "language_info": {
      "name": "python"
    }
  },
  "cells": [
    {
      "cell_type": "code",
      "execution_count": null,
      "metadata": {
        "id": "P28V6VfoDtXD"
      },
      "outputs": [],
      "source": [
        "import numpy as np\n",
        "import pandas as pd\n",
        "import matplotlib.pyplot as plt"
      ]
    },
    {
      "cell_type": "code",
      "source": [
        ""
      ],
      "metadata": {
        "id": "2_8K_G8HDvsV"
      },
      "execution_count": null,
      "outputs": []
    },
    {
      "cell_type": "code",
      "source": [
        "class BladesInTheDarkDice():\n",
        "  def roll(self, rating, size=1):\n",
        "    take_min = False\n",
        "\n",
        "    if rating < 1:\n",
        "      rating = 2\n",
        "      take_min = True\n",
        "\n",
        "    action_roll = np.random.randint(1, 7, size=(rating, size))\n",
        "    if take_min:\n",
        "      scores =  np.amin(action_roll, axis=0)\n",
        "    else:\n",
        "      scores =  np.amax(action_roll, axis=0)\n",
        "      scores += (np.sum(action_roll == 6, axis=0) > 1)\n",
        "\n",
        "    def threshold(s):\n",
        "      if s <= 3:\n",
        "        return 1\n",
        "      elif s <= 5:\n",
        "        return 2\n",
        "      elif s <= 6:\n",
        "        return 3\n",
        "      else:\n",
        "        return 4\n",
        "\n",
        "    hits = np.array(list(map(threshold, scores))).astype(\"int\")\n",
        "    return hits"
      ],
      "metadata": {
        "id": "9NpMZGPEeZeD"
      },
      "execution_count": null,
      "outputs": []
    },
    {
      "cell_type": "code",
      "source": [
        "class FateDice():\n",
        "  pass"
      ],
      "metadata": {
        "id": "dQ9We_5veZQp"
      },
      "execution_count": null,
      "outputs": []
    },
    {
      "cell_type": "code",
      "source": [
        "class DuneDice():\n",
        "  pass"
      ],
      "metadata": {
        "id": "kaLTU1B0eY8H"
      },
      "execution_count": null,
      "outputs": []
    },
    {
      "cell_type": "code",
      "source": [
        "class CoriolisDice():\n",
        "  def roll(self, dice=1, pray=False, size=1):\n",
        "    rolls = np.random.randint(1, 7, size=(dice, size))\n",
        "    if pray:\n",
        "      rerolls = np.random.randint(1, 7, size=(dice, size))\n",
        "      rolls = np.maximum(rolls, rerolls)\n",
        "    num_hits = np.sum(rolls == 6, axis=0)\n",
        "\n",
        "\n",
        "    def threshold(s):\n",
        "      if s < 1:\n",
        "        return 1\n",
        "      elif s < 3:\n",
        "        return 2\n",
        "      else:\n",
        "        return 3\n",
        "\n",
        "    hits = np.array(list(map(threshold, num_hits)))\n",
        "    return hits\n"
      ],
      "metadata": {
        "id": "ibu2zTm-7C2l"
      },
      "execution_count": null,
      "outputs": []
    },
    {
      "cell_type": "code",
      "source": [
        "class IronswornDice():\n",
        "\n",
        "  def roll(self, bonus=0, momentum = None, size = 1):\n",
        "    if momentum is not None and momentum > -1:\n",
        "      action_score = np.full((1, size), momentum)\n",
        "    else:\n",
        "      action_roll = np.random.randint(1, 7, size=size)\n",
        "      action_score = np.minimum(10, bonus + action_roll)\n",
        "      if momentum is not None and momentum < 0:\n",
        "        action_score = np.where(action_roll == -momentum, bonus, action_score)\n",
        "\n",
        "    challenge_roll = np.random.randint(1, 11, (2,size))\n",
        "    num_hits = np.sum(action_score > challenge_roll, axis = 0)\n",
        "    misses = num_hits == 0\n",
        "    matches = challenge_roll[0, :] == challenge_roll[1, :]\n",
        "\n",
        "    hits = np.where(matches, num_hits + 2, num_hits + 1)\n",
        "    hits = np.where(np.logical_and(matches, misses), 0, hits)\n",
        "    if size == 1:\n",
        "      hits = hits[0]\n",
        "\n",
        "    return hits"
      ],
      "metadata": {
        "id": "gGaV_vtLD58O"
      },
      "execution_count": null,
      "outputs": []
    },
    {
      "cell_type": "code",
      "source": [
        "class CityOfMistDice():\n",
        "\n",
        "  def roll(self, power, grit=False, size=1):\n",
        "    if grit:\n",
        "      if power > 6:\n",
        "        power = 4\n",
        "      elif power > 3:\n",
        "        power = 3\n",
        "      elif power > 1:\n",
        "        power = 2\n",
        "\n",
        "    dice_roll = np.random.randint(1, 7, (2,size))\n",
        "    scores = np.sum(dice_roll, axis=0) + power\n",
        "\n",
        "    def threshold(s):\n",
        "      if s <= 6:\n",
        "        return 1\n",
        "      elif s <= 9:\n",
        "        return 2\n",
        "      elif s <= 11:\n",
        "        return 3\n",
        "      else:\n",
        "        return 4\n",
        "\n",
        "    hits = np.array(list(map(threshold, scores))).astype(\"int\")\n",
        "    return hits\n",
        "    "
      ],
      "metadata": {
        "id": "Tg6ROmhvU7VS"
      },
      "execution_count": null,
      "outputs": []
    },
    {
      "cell_type": "code",
      "source": [
        "class DefiantDice():\n",
        "\n",
        "  def use_spare_potential(self, rolls, potential):\n",
        "    if potential == 0:\n",
        "      return rolls\n",
        "    \n",
        "    dice_num = rolls.shape[0]\n",
        "    z = np.zeros((dice_num, 1))\n",
        "\n",
        "    if potential > 0:\n",
        "      z[0, 0] = 1\n",
        "      new_potential = potential-1\n",
        "    else:\n",
        "      z[-1, 0] = -1\n",
        "      new_potential = potential + 1\n",
        "\n",
        "    new_rolls = np.sort(rolls + z, axis=0)\n",
        "    return self.use_spare_potential(new_rolls, new_potential)\n",
        "\n",
        "\n",
        "  def roll(self, potential, shard=False, size=1):\n",
        "\n",
        "    d6s = max(0, 3 - max(0, potential))\n",
        "    d10s = min(3 + int(shard), max(0, potential-3))\n",
        "\n",
        "    if potential > 3:\n",
        "      d8s = max(0, 6 + int(shard) - potential)\n",
        "      spare_potential = max(0, potential - (6 + int(shard)))\n",
        "    else:\n",
        "      d8s = int(shard) + max(0, potential)\n",
        "      spare_potential = min(0, potential)\n",
        "\n",
        "    d6_rolls =  np.random.randint(1, 7, size=(d6s, size))\n",
        "    d8_rolls = np.random.randint(1, 9, size=(d8s, size))\n",
        "    d10_rolls = np.random.randint(1, 11, size=(d10s, size))\n",
        "\n",
        "    all_rolls = np.sort(np.concatenate((d6_rolls, d8_rolls, d10_rolls), axis=0), axis=0)\n",
        "    all_rolls = self.use_spare_potential(all_rolls, spare_potential)\n",
        "    hits = np.sum((all_rolls >= 5), axis=0)\n",
        "\n",
        "    return hits\n",
        "    "
      ],
      "metadata": {
        "id": "l2bbWXNtkdcd"
      },
      "execution_count": null,
      "outputs": []
    },
    {
      "cell_type": "code",
      "source": [
        ""
      ],
      "metadata": {
        "id": "1IJAElTMU7EB"
      },
      "execution_count": null,
      "outputs": []
    },
    {
      "cell_type": "code",
      "source": [
        "n = 1000\n",
        "hits = [1, 2, 3, 4, 5]"
      ],
      "metadata": {
        "id": "3tYE-OryU6IH"
      },
      "execution_count": null,
      "outputs": []
    },
    {
      "cell_type": "code",
      "source": [
        ""
      ],
      "metadata": {
        "id": "ZovYW-lYhvR-"
      },
      "execution_count": null,
      "outputs": []
    },
    {
      "cell_type": "code",
      "source": [
        "coriolis = CoriolisDice()"
      ],
      "metadata": {
        "id": "BAYsHOMSIS8J"
      },
      "execution_count": null,
      "outputs": []
    },
    {
      "cell_type": "code",
      "source": [
        "rolls = coriolis.roll(3, pray=True, size=n)\n",
        "counts = np.bincount(rolls, minlength=5)"
      ],
      "metadata": {
        "id": "zcr89QoSISzJ"
      },
      "execution_count": null,
      "outputs": []
    },
    {
      "cell_type": "code",
      "source": [
        "plt.bar(hits, counts/np.sum(counts))"
      ],
      "metadata": {
        "colab": {
          "base_uri": "https://localhost:8080/",
          "height": 282
        },
        "id": "5W7a3xEkIduo",
        "outputId": "a33847e8-ff3c-4829-fdf9-6554e48e3541"
      },
      "execution_count": null,
      "outputs": [
        {
          "output_type": "execute_result",
          "data": {
            "text/plain": [
              "<BarContainer object of 5 artists>"
            ]
          },
          "metadata": {},
          "execution_count": 17
        },
        {
          "output_type": "display_data",
          "data": {
            "text/plain": [
              "<Figure size 432x288 with 1 Axes>"
            ],
            "image/png": "[encoded data removed]"
          },
          "metadata": {
            "needs_background": "light"
          }
        }
      ]
    },
    {
      "cell_type": "code",
      "source": [
        ""
      ],
      "metadata": {
        "id": "VVtaM787Id8V"
      },
      "execution_count": null,
      "outputs": []
    },
    {
      "cell_type": "code",
      "source": [
        ""
      ],
      "metadata": {
        "id": "weIsP9m0ISqe"
      },
      "execution_count": null,
      "outputs": []
    },
    {
      "cell_type": "code",
      "source": [
        "ironsworn = IronswornDice()"
      ],
      "metadata": {
        "id": "hKgBpOr_GNeT"
      },
      "execution_count": null,
      "outputs": []
    },
    {
      "cell_type": "code",
      "source": [
        "rolls = ironsworn.roll(3, size=n, momentum = -6)\n",
        "counts = np.bincount(rolls, minlength=5)"
      ],
      "metadata": {
        "id": "1rWXID4-GRWL"
      },
      "execution_count": null,
      "outputs": []
    },
    {
      "cell_type": "code",
      "source": [
        "plt.bar(hits, counts/np.sum(counts))"
      ],
      "metadata": {
        "colab": {
          "base_uri": "https://localhost:8080/",
          "height": 282
        },
        "id": "Vt2YVhsQHkc7",
        "outputId": "f0b37508-8fd7-4fdf-89c8-f3456da3b36c"
      },
      "execution_count": null,
      "outputs": [
        {
          "output_type": "execute_result",
          "data": {
            "text/plain": [
              "<BarContainer object of 5 artists>"
            ]
          },
          "metadata": {},
          "execution_count": 167
        },
        {
          "output_type": "display_data",
          "data": {
            "text/plain": [
              "<Figure size 432x288 with 1 Axes>"
            ],
            "image/png": "[encoded data removed]"
          },
          "metadata": {
            "needs_background": "light"
          }
        }
      ]
    },
    {
      "cell_type": "code",
      "source": [
        ""
      ],
      "metadata": {
        "id": "YVTKZuZcLwri"
      },
      "execution_count": null,
      "outputs": []
    },
    {
      "cell_type": "code",
      "source": [
        "citymist = CityOfMistDice()"
      ],
      "metadata": {
        "id": "ydRK-gXdZKL7"
      },
      "execution_count": null,
      "outputs": []
    },
    {
      "cell_type": "code",
      "source": [
        "rolls = citymist.roll(0, grit = True, size=n)\n",
        "counts = np.bincount(rolls, minlength=5)"
      ],
      "metadata": {
        "id": "eqMzBC6UZMv9"
      },
      "execution_count": null,
      "outputs": []
    },
    {
      "cell_type": "code",
      "source": [
        "plt.bar(hits, counts/np.sum(counts))"
      ],
      "metadata": {
        "colab": {
          "base_uri": "https://localhost:8080/",
          "height": 282
        },
        "id": "oKafSzyOZaco",
        "outputId": "d5892261-aca1-4392-dbaa-c1b20c90abc9"
      },
      "execution_count": null,
      "outputs": [
        {
          "output_type": "execute_result",
          "data": {
            "text/plain": [
              "<BarContainer object of 5 artists>"
            ]
          },
          "metadata": {},
          "execution_count": 169
        },
        {
          "output_type": "display_data",
          "data": {
            "text/plain": [
              "<Figure size 432x288 with 1 Axes>"
            ],
            "image/png": "[encoded data removed]"
          },
          "metadata": {
            "needs_background": "light"
          }
        }
      ]
    },
    {
      "cell_type": "code",
      "source": [
        ""
      ],
      "metadata": {
        "id": "uoIcER6kZb48"
      },
      "execution_count": null,
      "outputs": []
    },
    {
      "cell_type": "code",
      "source": [
        "defiant = DefiantDice()"
      ],
      "metadata": {
        "id": "AVX2CQnRsodj"
      },
      "execution_count": null,
      "outputs": []
    },
    {
      "cell_type": "code",
      "source": [
        "rolls = defiant.roll(0, shard = True, size=n)\n",
        "counts = np.bincount(rolls, minlength=5)"
      ],
      "metadata": {
        "id": "8HF0K5rrtb0f"
      },
      "execution_count": null,
      "outputs": []
    },
    {
      "cell_type": "code",
      "source": [
        "plt.bar(hits, counts/np.sum(counts))"
      ],
      "metadata": {
        "colab": {
          "base_uri": "https://localhost:8080/",
          "height": 282
        },
        "id": "2BdT1Cwi5KhS",
        "outputId": "89d99995-04dd-4ab3-dd76-67224440182c"
      },
      "execution_count": null,
      "outputs": [
        {
          "output_type": "execute_result",
          "data": {
            "text/plain": [
              "<BarContainer object of 5 artists>"
            ]
          },
          "metadata": {},
          "execution_count": 45
        },
        {
          "output_type": "display_data",
          "data": {
            "text/plain": [
              "<Figure size 432x288 with 1 Axes>"
            ],
            "image/png": "[encoded data removed]"
          },
          "metadata": {
            "needs_background": "light"
          }
        }
      ]
    },
    {
      "cell_type": "code",
      "source": [
        ""
      ],
      "metadata": {
        "id": "4UgMaM1ffJ_l"
      },
      "execution_count": null,
      "outputs": []
    },
    {
      "cell_type": "code",
      "source": [
        "blades = BladesInTheDarkDice()"
      ],
      "metadata": {
        "id": "kOVmh4_EgST2"
      },
      "execution_count": null,
      "outputs": []
    },
    {
      "cell_type": "code",
      "source": [
        "rolls = blades.roll(1, size=n)\n",
        "counts = np.bincount(rolls, minlength=5)"
      ],
      "metadata": {
        "id": "ukb-rLINkznK"
      },
      "execution_count": null,
      "outputs": []
    },
    {
      "cell_type": "code",
      "source": [
        "plt.bar(hits, counts/np.sum(counts))"
      ],
      "metadata": {
        "colab": {
          "base_uri": "https://localhost:8080/",
          "height": 282
        },
        "id": "oZSxk-aClJRK",
        "outputId": "c2246194-08a2-472c-a63b-a433c88c7dbe"
      },
      "execution_count": null,
      "outputs": [
        {
          "output_type": "execute_result",
          "data": {
            "text/plain": [
              "<BarContainer object of 5 artists>"
            ]
          },
          "metadata": {},
          "execution_count": 16
        },
        {
          "output_type": "display_data",
          "data": {
            "text/plain": [
              "<Figure size 432x288 with 1 Axes>"
            ],
            "image/png": "[encoded data removed]"
          },
          "metadata": {
            "needs_background": "light"
          }
        }
      ]
    },
    {
      "cell_type": "code",
      "source": [
        ""
      ],
      "metadata": {
        "id": "uQOhbgAple_G"
      },
      "execution_count": null,
      "outputs": []
    }
  ]
}